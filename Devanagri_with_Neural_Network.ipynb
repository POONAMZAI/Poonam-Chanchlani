{
  "nbformat": 4,
  "nbformat_minor": 0,
  "metadata": {
    "colab": {
      "provenance": []
    },
    "kernelspec": {
      "name": "python3",
      "display_name": "Python 3"
    },
    "language_info": {
      "name": "python"
    }
  },
  "cells": [
    {
      "cell_type": "code",
      "execution_count": null,
      "metadata": {
        "colab": {
          "base_uri": "https://localhost:8080/"
        },
        "id": "6OhG1I_W2_Pc",
        "outputId": "40504f74-a7cc-4e24-98fa-ee6cedd66666"
      },
      "outputs": [
        {
          "output_type": "stream",
          "name": "stdout",
          "text": [
            "/bin/bash: cd/content: No such file or directory\n"
          ]
        }
      ],
      "source": [
        "\n",
        " !cd/content"
      ]
    },
    {
      "cell_type": "code",
      "source": [
        "#from google.colab import files"
      ],
      "metadata": {
        "id": "F-Q6d5vQFoVn"
      },
      "execution_count": null,
      "outputs": []
    },
    {
      "cell_type": "code",
      "source": [
        "#files.upload()"
      ],
      "metadata": {
        "id": "rbQsykJ4FxzE"
      },
      "execution_count": null,
      "outputs": []
    },
    {
      "cell_type": "code",
      "source": [
        "#!mkdir ~/.kaggle"
      ],
      "metadata": {
        "id": "-I5tQfrIF0ME"
      },
      "execution_count": null,
      "outputs": []
    },
    {
      "cell_type": "code",
      "source": [
        "#!mv /content/kaggle.json ~/.kaggle"
      ],
      "metadata": {
        "id": "xeHJuEQZGN43"
      },
      "execution_count": null,
      "outputs": []
    },
    {
      "cell_type": "code",
      "source": [
        "#!chmod 600 ~/.kaggle/kaggle.json"
      ],
      "metadata": {
        "id": "RPktrVFjGjyX"
      },
      "execution_count": null,
      "outputs": []
    },
    {
      "cell_type": "code",
      "source": [
        "#!pip install kaggle"
      ],
      "metadata": {
        "id": "-yyvO0m8HCht"
      },
      "execution_count": null,
      "outputs": []
    },
    {
      "cell_type": "code",
      "source": [
        "#!kaggle datasets download -d rishianand/devanagari-character-set"
      ],
      "metadata": {
        "id": "wff5ZQ63HXAr"
      },
      "execution_count": null,
      "outputs": []
    },
    {
      "cell_type": "code",
      "source": [
        "!cp /content/drive/MyDrive/Classroom/Devnagari_Handwritten_Test.csv /content"
      ],
      "metadata": {
        "id": "PKeDEcakHgKj"
      },
      "execution_count": null,
      "outputs": []
    },
    {
      "cell_type": "code",
      "source": [
        "!cp /content/drive/MyDrive/Classroom/Devnagari_Handwritten_Train.csv /content"
      ],
      "metadata": {
        "id": "HGxK1RB0Jmab"
      },
      "execution_count": null,
      "outputs": []
    },
    {
      "cell_type": "code",
      "source": [
        "import pandas as pd"
      ],
      "metadata": {
        "id": "dSqpbt0KKATg"
      },
      "execution_count": null,
      "outputs": []
    },
    {
      "cell_type": "code",
      "source": [
        "training_data = pd.read_csv(\"/content/Devnagari_Handwritten_Train.csv\")"
      ],
      "metadata": {
        "id": "61GCw4VLKDFX"
      },
      "execution_count": null,
      "outputs": []
    },
    {
      "cell_type": "code",
      "source": [
        "training_data.drop(labels=training_data.columns[0],axis=1,inplace=True)"
      ],
      "metadata": {
        "id": "_KBmBWV0Kkh4"
      },
      "execution_count": null,
      "outputs": []
    },
    {
      "cell_type": "code",
      "source": [
        "training_data.head()"
      ],
      "metadata": {
        "colab": {
          "base_uri": "https://localhost:8080/",
          "height": 299
        },
        "id": "0cbD23gEKu00",
        "outputId": "dea25cf0-3346-46c0-f336-0213d9f10cdf"
      },
      "execution_count": null,
      "outputs": [
        {
          "output_type": "execute_result",
          "data": {
            "text/plain": [
              "   Pixel_1  Pixel_2  Pixel_3  Pixel_4  Pixel_5  Pixel_6  Pixel_7  Pixel_8  \\\n",
              "0      0.0      0.0      0.0      0.0      0.0      0.0      0.0      0.0   \n",
              "1      0.0      0.0      0.0      0.0      0.0      0.0      0.0      0.0   \n",
              "2      0.0      0.0      0.0      0.0      0.0      0.0      0.0      0.0   \n",
              "3      0.0      0.0      0.0      0.0      0.0      0.0      0.0      0.0   \n",
              "4      0.0      0.0      0.0      0.0      0.0      0.0      0.0      0.0   \n",
              "\n",
              "   Pixel_9  Pixel_10  ...  Pixel_1016  Pixel_1017  Pixel_1018  Pixel_1019  \\\n",
              "0      0.0       0.0  ...         0.0         0.0         0.0         0.0   \n",
              "1      0.0       0.0  ...         0.0         0.0         0.0         0.0   \n",
              "2      0.0       0.0  ...         0.0         0.0         0.0         0.0   \n",
              "3      0.0       0.0  ...         0.0         0.0         0.0         0.0   \n",
              "4      0.0       0.0  ...         0.0         0.0         0.0         0.0   \n",
              "\n",
              "   Pixel_1020  Pixel_1021  Pixel_1022  Pixel_1023  Pixel_1024  \\\n",
              "0         0.0         0.0         0.0         0.0         0.0   \n",
              "1         0.0         0.0         0.0         0.0         0.0   \n",
              "2         0.0         0.0         0.0         0.0         0.0   \n",
              "3         0.0         0.0         0.0         0.0         0.0   \n",
              "4         0.0         0.0         0.0         0.0         0.0   \n",
              "\n",
              "        Image_Label  \n",
              "0  character_10_yna  \n",
              "1  character_10_yna  \n",
              "2  character_10_yna  \n",
              "3  character_10_yna  \n",
              "4  character_10_yna  \n",
              "\n",
              "[5 rows x 1025 columns]"
            ],
            "text/html": [
              "\n",
              "  <div id=\"df-c6bc6e0a-24c2-47d7-ae79-a40273cb7e4a\">\n",
              "    <div class=\"colab-df-container\">\n",
              "      <div>\n",
              "<style scoped>\n",
              "    .dataframe tbody tr th:only-of-type {\n",
              "        vertical-align: middle;\n",
              "    }\n",
              "\n",
              "    .dataframe tbody tr th {\n",
              "        vertical-align: top;\n",
              "    }\n",
              "\n",
              "    .dataframe thead th {\n",
              "        text-align: right;\n",
              "    }\n",
              "</style>\n",
              "<table border=\"1\" class=\"dataframe\">\n",
              "  <thead>\n",
              "    <tr style=\"text-align: right;\">\n",
              "      <th></th>\n",
              "      <th>Pixel_1</th>\n",
              "      <th>Pixel_2</th>\n",
              "      <th>Pixel_3</th>\n",
              "      <th>Pixel_4</th>\n",
              "      <th>Pixel_5</th>\n",
              "      <th>Pixel_6</th>\n",
              "      <th>Pixel_7</th>\n",
              "      <th>Pixel_8</th>\n",
              "      <th>Pixel_9</th>\n",
              "      <th>Pixel_10</th>\n",
              "      <th>...</th>\n",
              "      <th>Pixel_1016</th>\n",
              "      <th>Pixel_1017</th>\n",
              "      <th>Pixel_1018</th>\n",
              "      <th>Pixel_1019</th>\n",
              "      <th>Pixel_1020</th>\n",
              "      <th>Pixel_1021</th>\n",
              "      <th>Pixel_1022</th>\n",
              "      <th>Pixel_1023</th>\n",
              "      <th>Pixel_1024</th>\n",
              "      <th>Image_Label</th>\n",
              "    </tr>\n",
              "  </thead>\n",
              "  <tbody>\n",
              "    <tr>\n",
              "      <th>0</th>\n",
              "      <td>0.0</td>\n",
              "      <td>0.0</td>\n",
              "      <td>0.0</td>\n",
              "      <td>0.0</td>\n",
              "      <td>0.0</td>\n",
              "      <td>0.0</td>\n",
              "      <td>0.0</td>\n",
              "      <td>0.0</td>\n",
              "      <td>0.0</td>\n",
              "      <td>0.0</td>\n",
              "      <td>...</td>\n",
              "      <td>0.0</td>\n",
              "      <td>0.0</td>\n",
              "      <td>0.0</td>\n",
              "      <td>0.0</td>\n",
              "      <td>0.0</td>\n",
              "      <td>0.0</td>\n",
              "      <td>0.0</td>\n",
              "      <td>0.0</td>\n",
              "      <td>0.0</td>\n",
              "      <td>character_10_yna</td>\n",
              "    </tr>\n",
              "    <tr>\n",
              "      <th>1</th>\n",
              "      <td>0.0</td>\n",
              "      <td>0.0</td>\n",
              "      <td>0.0</td>\n",
              "      <td>0.0</td>\n",
              "      <td>0.0</td>\n",
              "      <td>0.0</td>\n",
              "      <td>0.0</td>\n",
              "      <td>0.0</td>\n",
              "      <td>0.0</td>\n",
              "      <td>0.0</td>\n",
              "      <td>...</td>\n",
              "      <td>0.0</td>\n",
              "      <td>0.0</td>\n",
              "      <td>0.0</td>\n",
              "      <td>0.0</td>\n",
              "      <td>0.0</td>\n",
              "      <td>0.0</td>\n",
              "      <td>0.0</td>\n",
              "      <td>0.0</td>\n",
              "      <td>0.0</td>\n",
              "      <td>character_10_yna</td>\n",
              "    </tr>\n",
              "    <tr>\n",
              "      <th>2</th>\n",
              "      <td>0.0</td>\n",
              "      <td>0.0</td>\n",
              "      <td>0.0</td>\n",
              "      <td>0.0</td>\n",
              "      <td>0.0</td>\n",
              "      <td>0.0</td>\n",
              "      <td>0.0</td>\n",
              "      <td>0.0</td>\n",
              "      <td>0.0</td>\n",
              "      <td>0.0</td>\n",
              "      <td>...</td>\n",
              "      <td>0.0</td>\n",
              "      <td>0.0</td>\n",
              "      <td>0.0</td>\n",
              "      <td>0.0</td>\n",
              "      <td>0.0</td>\n",
              "      <td>0.0</td>\n",
              "      <td>0.0</td>\n",
              "      <td>0.0</td>\n",
              "      <td>0.0</td>\n",
              "      <td>character_10_yna</td>\n",
              "    </tr>\n",
              "    <tr>\n",
              "      <th>3</th>\n",
              "      <td>0.0</td>\n",
              "      <td>0.0</td>\n",
              "      <td>0.0</td>\n",
              "      <td>0.0</td>\n",
              "      <td>0.0</td>\n",
              "      <td>0.0</td>\n",
              "      <td>0.0</td>\n",
              "      <td>0.0</td>\n",
              "      <td>0.0</td>\n",
              "      <td>0.0</td>\n",
              "      <td>...</td>\n",
              "      <td>0.0</td>\n",
              "      <td>0.0</td>\n",
              "      <td>0.0</td>\n",
              "      <td>0.0</td>\n",
              "      <td>0.0</td>\n",
              "      <td>0.0</td>\n",
              "      <td>0.0</td>\n",
              "      <td>0.0</td>\n",
              "      <td>0.0</td>\n",
              "      <td>character_10_yna</td>\n",
              "    </tr>\n",
              "    <tr>\n",
              "      <th>4</th>\n",
              "      <td>0.0</td>\n",
              "      <td>0.0</td>\n",
              "      <td>0.0</td>\n",
              "      <td>0.0</td>\n",
              "      <td>0.0</td>\n",
              "      <td>0.0</td>\n",
              "      <td>0.0</td>\n",
              "      <td>0.0</td>\n",
              "      <td>0.0</td>\n",
              "      <td>0.0</td>\n",
              "      <td>...</td>\n",
              "      <td>0.0</td>\n",
              "      <td>0.0</td>\n",
              "      <td>0.0</td>\n",
              "      <td>0.0</td>\n",
              "      <td>0.0</td>\n",
              "      <td>0.0</td>\n",
              "      <td>0.0</td>\n",
              "      <td>0.0</td>\n",
              "      <td>0.0</td>\n",
              "      <td>character_10_yna</td>\n",
              "    </tr>\n",
              "  </tbody>\n",
              "</table>\n",
              "<p>5 rows × 1025 columns</p>\n",
              "</div>\n",
              "      <button class=\"colab-df-convert\" onclick=\"convertToInteractive('df-c6bc6e0a-24c2-47d7-ae79-a40273cb7e4a')\"\n",
              "              title=\"Convert this dataframe to an interactive table.\"\n",
              "              style=\"display:none;\">\n",
              "        \n",
              "  <svg xmlns=\"http://www.w3.org/2000/svg\" height=\"24px\"viewBox=\"0 0 24 24\"\n",
              "       width=\"24px\">\n",
              "    <path d=\"M0 0h24v24H0V0z\" fill=\"none\"/>\n",
              "    <path d=\"M18.56 5.44l.94 2.06.94-2.06 2.06-.94-2.06-.94-.94-2.06-.94 2.06-2.06.94zm-11 1L8.5 8.5l.94-2.06 2.06-.94-2.06-.94L8.5 2.5l-.94 2.06-2.06.94zm10 10l.94 2.06.94-2.06 2.06-.94-2.06-.94-.94-2.06-.94 2.06-2.06.94z\"/><path d=\"M17.41 7.96l-1.37-1.37c-.4-.4-.92-.59-1.43-.59-.52 0-1.04.2-1.43.59L10.3 9.45l-7.72 7.72c-.78.78-.78 2.05 0 2.83L4 21.41c.39.39.9.59 1.41.59.51 0 1.02-.2 1.41-.59l7.78-7.78 2.81-2.81c.8-.78.8-2.07 0-2.86zM5.41 20L4 18.59l7.72-7.72 1.47 1.35L5.41 20z\"/>\n",
              "  </svg>\n",
              "      </button>\n",
              "      \n",
              "  <style>\n",
              "    .colab-df-container {\n",
              "      display:flex;\n",
              "      flex-wrap:wrap;\n",
              "      gap: 12px;\n",
              "    }\n",
              "\n",
              "    .colab-df-convert {\n",
              "      background-color: #E8F0FE;\n",
              "      border: none;\n",
              "      border-radius: 50%;\n",
              "      cursor: pointer;\n",
              "      display: none;\n",
              "      fill: #1967D2;\n",
              "      height: 32px;\n",
              "      padding: 0 0 0 0;\n",
              "      width: 32px;\n",
              "    }\n",
              "\n",
              "    .colab-df-convert:hover {\n",
              "      background-color: #E2EBFA;\n",
              "      box-shadow: 0px 1px 2px rgba(60, 64, 67, 0.3), 0px 1px 3px 1px rgba(60, 64, 67, 0.15);\n",
              "      fill: #174EA6;\n",
              "    }\n",
              "\n",
              "    [theme=dark] .colab-df-convert {\n",
              "      background-color: #3B4455;\n",
              "      fill: #D2E3FC;\n",
              "    }\n",
              "\n",
              "    [theme=dark] .colab-df-convert:hover {\n",
              "      background-color: #434B5C;\n",
              "      box-shadow: 0px 1px 3px 1px rgba(0, 0, 0, 0.15);\n",
              "      filter: drop-shadow(0px 1px 2px rgba(0, 0, 0, 0.3));\n",
              "      fill: #FFFFFF;\n",
              "    }\n",
              "  </style>\n",
              "\n",
              "      <script>\n",
              "        const buttonEl =\n",
              "          document.querySelector('#df-c6bc6e0a-24c2-47d7-ae79-a40273cb7e4a button.colab-df-convert');\n",
              "        buttonEl.style.display =\n",
              "          google.colab.kernel.accessAllowed ? 'block' : 'none';\n",
              "\n",
              "        async function convertToInteractive(key) {\n",
              "          const element = document.querySelector('#df-c6bc6e0a-24c2-47d7-ae79-a40273cb7e4a');\n",
              "          const dataTable =\n",
              "            await google.colab.kernel.invokeFunction('convertToInteractive',\n",
              "                                                     [key], {});\n",
              "          if (!dataTable) return;\n",
              "\n",
              "          const docLinkHtml = 'Like what you see? Visit the ' +\n",
              "            '<a target=\"_blank\" href=https://colab.research.google.com/notebooks/data_table.ipynb>data table notebook</a>'\n",
              "            + ' to learn more about interactive tables.';\n",
              "          element.innerHTML = '';\n",
              "          dataTable['output_type'] = 'display_data';\n",
              "          await google.colab.output.renderOutput(dataTable, element);\n",
              "          const docLink = document.createElement('div');\n",
              "          docLink.innerHTML = docLinkHtml;\n",
              "          element.appendChild(docLink);\n",
              "        }\n",
              "      </script>\n",
              "    </div>\n",
              "  </div>\n",
              "  "
            ]
          },
          "metadata": {},
          "execution_count": 14
        }
      ]
    },
    {
      "cell_type": "code",
      "source": [
        "Xtrain=training_data.iloc[:,0:1024]\n",
        "Ytrain=training_data.iloc[:,-1]"
      ],
      "metadata": {
        "id": "bIX_R0FVKyyc"
      },
      "execution_count": null,
      "outputs": []
    },
    {
      "cell_type": "code",
      "source": [
        "Ytrain"
      ],
      "metadata": {
        "colab": {
          "base_uri": "https://localhost:8080/"
        },
        "id": "L56nduPnLJlj",
        "outputId": "5752344a-a15a-4f5d-eb48-2c24f49f66db"
      },
      "execution_count": null,
      "outputs": [
        {
          "output_type": "execute_result",
          "data": {
            "text/plain": [
              "0        character_10_yna\n",
              "1        character_10_yna\n",
              "2        character_10_yna\n",
              "3        character_10_yna\n",
              "4        character_10_yna\n",
              "               ...       \n",
              "78195             digit_9\n",
              "78196             digit_9\n",
              "78197             digit_9\n",
              "78198             digit_9\n",
              "78199             digit_9\n",
              "Name: Image_Label, Length: 78200, dtype: object"
            ]
          },
          "metadata": {},
          "execution_count": 16
        }
      ]
    },
    {
      "cell_type": "code",
      "source": [
        "#label encoding: every character name will be replaced by a number"
      ],
      "metadata": {
        "id": "-PSYXd6DLL_a"
      },
      "execution_count": null,
      "outputs": []
    },
    {
      "cell_type": "code",
      "source": [
        "unique_categories = Ytrain.unique()"
      ],
      "metadata": {
        "id": "ve0YfocsPmvE"
      },
      "execution_count": null,
      "outputs": []
    },
    {
      "cell_type": "code",
      "source": [
        "Ytrain.replace(to_replace=unique_categories,value=list(range(len(unique_categories))),inplace=True)"
      ],
      "metadata": {
        "id": "C_gsAuWELY55"
      },
      "execution_count": null,
      "outputs": []
    },
    {
      "cell_type": "code",
      "source": [
        "Ytrain"
      ],
      "metadata": {
        "colab": {
          "base_uri": "https://localhost:8080/"
        },
        "id": "JbUstjkyNBof",
        "outputId": "50ac462a-78ff-4dbf-b35f-0458a0ad28a9"
      },
      "execution_count": null,
      "outputs": [
        {
          "output_type": "execute_result",
          "data": {
            "text/plain": [
              "0         0\n",
              "1         0\n",
              "2         0\n",
              "3         0\n",
              "4         0\n",
              "         ..\n",
              "78195    45\n",
              "78196    45\n",
              "78197    45\n",
              "78198    45\n",
              "78199    45\n",
              "Name: Image_Label, Length: 78200, dtype: int64"
            ]
          },
          "metadata": {},
          "execution_count": 20
        }
      ]
    },
    {
      "cell_type": "code",
      "source": [
        "import tensorflow as tf"
      ],
      "metadata": {
        "id": "jLjt4TJLNchj"
      },
      "execution_count": null,
      "outputs": []
    },
    {
      "cell_type": "code",
      "source": [
        "Ytrain_ohe = tf.keras.utils.to_categorical(y=Ytrain,num_classes=46)"
      ],
      "metadata": {
        "id": "l3BxxZ-PNDOE"
      },
      "execution_count": null,
      "outputs": []
    },
    {
      "cell_type": "markdown",
      "source": [
        "#one hot encoded : in a vector, only one place is 1 ansd rest is 0"
      ],
      "metadata": {
        "id": "ktTcUQ7rN7-x"
      }
    },
    {
      "cell_type": "code",
      "source": [
        "Ytrain_ohe"
      ],
      "metadata": {
        "colab": {
          "base_uri": "https://localhost:8080/"
        },
        "id": "qpMkl3yLNy-U",
        "outputId": "0e4c85ca-9324-4398-98fa-467bd5164723"
      },
      "execution_count": null,
      "outputs": [
        {
          "output_type": "execute_result",
          "data": {
            "text/plain": [
              "array([[1., 0., 0., ..., 0., 0., 0.],\n",
              "       [1., 0., 0., ..., 0., 0., 0.],\n",
              "       [1., 0., 0., ..., 0., 0., 0.],\n",
              "       ...,\n",
              "       [0., 0., 0., ..., 0., 0., 1.],\n",
              "       [0., 0., 0., ..., 0., 0., 1.],\n",
              "       [0., 0., 0., ..., 0., 0., 1.]], dtype=float32)"
            ]
          },
          "metadata": {},
          "execution_count": 23
        }
      ]
    },
    {
      "cell_type": "code",
      "source": [
        "!cp /content/drive/MyDrive/Classroom/Devnagari_Handwritten_Test.csv /content"
      ],
      "metadata": {
        "id": "dxSZeKjqOQM9"
      },
      "execution_count": null,
      "outputs": []
    },
    {
      "cell_type": "code",
      "source": [
        "testing_data=pd.read_csv(\"/content/Devnagari_Handwritten_Test.csv\")"
      ],
      "metadata": {
        "id": "NlrgDLUIN0qB"
      },
      "execution_count": null,
      "outputs": []
    },
    {
      "cell_type": "code",
      "source": [
        "testing_data.drop(labels=testing_data.columns[0],axis=1,inplace=True)"
      ],
      "metadata": {
        "id": "LC8-3LQYOfsf"
      },
      "execution_count": null,
      "outputs": []
    },
    {
      "cell_type": "code",
      "source": [
        "testing_data.head()"
      ],
      "metadata": {
        "colab": {
          "base_uri": "https://localhost:8080/",
          "height": 299
        },
        "id": "o_KGm01IOrOP",
        "outputId": "51d5ffc9-465d-4e8d-8769-b6c09cedda9c"
      },
      "execution_count": null,
      "outputs": [
        {
          "output_type": "execute_result",
          "data": {
            "text/plain": [
              "   Pixel_1  Pixel_2  Pixel_3  Pixel_4  Pixel_5  Pixel_6  Pixel_7  Pixel_8  \\\n",
              "0      0.0      0.0      0.0      0.0      0.0      0.0      0.0      0.0   \n",
              "1      0.0      0.0      0.0      0.0      0.0      0.0      0.0      0.0   \n",
              "2      0.0      0.0      0.0      0.0      0.0      0.0      0.0      0.0   \n",
              "3      0.0      0.0      0.0      0.0      0.0      0.0      0.0      0.0   \n",
              "4      0.0      0.0      0.0      0.0      0.0      0.0      0.0      0.0   \n",
              "\n",
              "   Pixel_9  Pixel_10  ...  Pixel_1016  Pixel_1017  Pixel_1018  Pixel_1019  \\\n",
              "0      0.0       0.0  ...         0.0         0.0         0.0         0.0   \n",
              "1      0.0       0.0  ...         0.0         0.0         0.0         0.0   \n",
              "2      0.0       0.0  ...         0.0         0.0         0.0         0.0   \n",
              "3      0.0       0.0  ...         0.0         0.0         0.0         0.0   \n",
              "4      0.0       0.0  ...         0.0         0.0         0.0         0.0   \n",
              "\n",
              "   Pixel_1020  Pixel_1021  Pixel_1022  Pixel_1023  Pixel_1024  Image_Label  \n",
              "0         0.0         0.0         0.0         0.0         0.0      digit_4  \n",
              "1         0.0         0.0         0.0         0.0         0.0      digit_4  \n",
              "2         0.0         0.0         0.0         0.0         0.0      digit_4  \n",
              "3         0.0         0.0         0.0         0.0         0.0      digit_4  \n",
              "4         0.0         0.0         0.0         0.0         0.0      digit_4  \n",
              "\n",
              "[5 rows x 1025 columns]"
            ],
            "text/html": [
              "\n",
              "  <div id=\"df-cf9f0c46-cb29-4635-a04d-f89e3d856ac6\">\n",
              "    <div class=\"colab-df-container\">\n",
              "      <div>\n",
              "<style scoped>\n",
              "    .dataframe tbody tr th:only-of-type {\n",
              "        vertical-align: middle;\n",
              "    }\n",
              "\n",
              "    .dataframe tbody tr th {\n",
              "        vertical-align: top;\n",
              "    }\n",
              "\n",
              "    .dataframe thead th {\n",
              "        text-align: right;\n",
              "    }\n",
              "</style>\n",
              "<table border=\"1\" class=\"dataframe\">\n",
              "  <thead>\n",
              "    <tr style=\"text-align: right;\">\n",
              "      <th></th>\n",
              "      <th>Pixel_1</th>\n",
              "      <th>Pixel_2</th>\n",
              "      <th>Pixel_3</th>\n",
              "      <th>Pixel_4</th>\n",
              "      <th>Pixel_5</th>\n",
              "      <th>Pixel_6</th>\n",
              "      <th>Pixel_7</th>\n",
              "      <th>Pixel_8</th>\n",
              "      <th>Pixel_9</th>\n",
              "      <th>Pixel_10</th>\n",
              "      <th>...</th>\n",
              "      <th>Pixel_1016</th>\n",
              "      <th>Pixel_1017</th>\n",
              "      <th>Pixel_1018</th>\n",
              "      <th>Pixel_1019</th>\n",
              "      <th>Pixel_1020</th>\n",
              "      <th>Pixel_1021</th>\n",
              "      <th>Pixel_1022</th>\n",
              "      <th>Pixel_1023</th>\n",
              "      <th>Pixel_1024</th>\n",
              "      <th>Image_Label</th>\n",
              "    </tr>\n",
              "  </thead>\n",
              "  <tbody>\n",
              "    <tr>\n",
              "      <th>0</th>\n",
              "      <td>0.0</td>\n",
              "      <td>0.0</td>\n",
              "      <td>0.0</td>\n",
              "      <td>0.0</td>\n",
              "      <td>0.0</td>\n",
              "      <td>0.0</td>\n",
              "      <td>0.0</td>\n",
              "      <td>0.0</td>\n",
              "      <td>0.0</td>\n",
              "      <td>0.0</td>\n",
              "      <td>...</td>\n",
              "      <td>0.0</td>\n",
              "      <td>0.0</td>\n",
              "      <td>0.0</td>\n",
              "      <td>0.0</td>\n",
              "      <td>0.0</td>\n",
              "      <td>0.0</td>\n",
              "      <td>0.0</td>\n",
              "      <td>0.0</td>\n",
              "      <td>0.0</td>\n",
              "      <td>digit_4</td>\n",
              "    </tr>\n",
              "    <tr>\n",
              "      <th>1</th>\n",
              "      <td>0.0</td>\n",
              "      <td>0.0</td>\n",
              "      <td>0.0</td>\n",
              "      <td>0.0</td>\n",
              "      <td>0.0</td>\n",
              "      <td>0.0</td>\n",
              "      <td>0.0</td>\n",
              "      <td>0.0</td>\n",
              "      <td>0.0</td>\n",
              "      <td>0.0</td>\n",
              "      <td>...</td>\n",
              "      <td>0.0</td>\n",
              "      <td>0.0</td>\n",
              "      <td>0.0</td>\n",
              "      <td>0.0</td>\n",
              "      <td>0.0</td>\n",
              "      <td>0.0</td>\n",
              "      <td>0.0</td>\n",
              "      <td>0.0</td>\n",
              "      <td>0.0</td>\n",
              "      <td>digit_4</td>\n",
              "    </tr>\n",
              "    <tr>\n",
              "      <th>2</th>\n",
              "      <td>0.0</td>\n",
              "      <td>0.0</td>\n",
              "      <td>0.0</td>\n",
              "      <td>0.0</td>\n",
              "      <td>0.0</td>\n",
              "      <td>0.0</td>\n",
              "      <td>0.0</td>\n",
              "      <td>0.0</td>\n",
              "      <td>0.0</td>\n",
              "      <td>0.0</td>\n",
              "      <td>...</td>\n",
              "      <td>0.0</td>\n",
              "      <td>0.0</td>\n",
              "      <td>0.0</td>\n",
              "      <td>0.0</td>\n",
              "      <td>0.0</td>\n",
              "      <td>0.0</td>\n",
              "      <td>0.0</td>\n",
              "      <td>0.0</td>\n",
              "      <td>0.0</td>\n",
              "      <td>digit_4</td>\n",
              "    </tr>\n",
              "    <tr>\n",
              "      <th>3</th>\n",
              "      <td>0.0</td>\n",
              "      <td>0.0</td>\n",
              "      <td>0.0</td>\n",
              "      <td>0.0</td>\n",
              "      <td>0.0</td>\n",
              "      <td>0.0</td>\n",
              "      <td>0.0</td>\n",
              "      <td>0.0</td>\n",
              "      <td>0.0</td>\n",
              "      <td>0.0</td>\n",
              "      <td>...</td>\n",
              "      <td>0.0</td>\n",
              "      <td>0.0</td>\n",
              "      <td>0.0</td>\n",
              "      <td>0.0</td>\n",
              "      <td>0.0</td>\n",
              "      <td>0.0</td>\n",
              "      <td>0.0</td>\n",
              "      <td>0.0</td>\n",
              "      <td>0.0</td>\n",
              "      <td>digit_4</td>\n",
              "    </tr>\n",
              "    <tr>\n",
              "      <th>4</th>\n",
              "      <td>0.0</td>\n",
              "      <td>0.0</td>\n",
              "      <td>0.0</td>\n",
              "      <td>0.0</td>\n",
              "      <td>0.0</td>\n",
              "      <td>0.0</td>\n",
              "      <td>0.0</td>\n",
              "      <td>0.0</td>\n",
              "      <td>0.0</td>\n",
              "      <td>0.0</td>\n",
              "      <td>...</td>\n",
              "      <td>0.0</td>\n",
              "      <td>0.0</td>\n",
              "      <td>0.0</td>\n",
              "      <td>0.0</td>\n",
              "      <td>0.0</td>\n",
              "      <td>0.0</td>\n",
              "      <td>0.0</td>\n",
              "      <td>0.0</td>\n",
              "      <td>0.0</td>\n",
              "      <td>digit_4</td>\n",
              "    </tr>\n",
              "  </tbody>\n",
              "</table>\n",
              "<p>5 rows × 1025 columns</p>\n",
              "</div>\n",
              "      <button class=\"colab-df-convert\" onclick=\"convertToInteractive('df-cf9f0c46-cb29-4635-a04d-f89e3d856ac6')\"\n",
              "              title=\"Convert this dataframe to an interactive table.\"\n",
              "              style=\"display:none;\">\n",
              "        \n",
              "  <svg xmlns=\"http://www.w3.org/2000/svg\" height=\"24px\"viewBox=\"0 0 24 24\"\n",
              "       width=\"24px\">\n",
              "    <path d=\"M0 0h24v24H0V0z\" fill=\"none\"/>\n",
              "    <path d=\"M18.56 5.44l.94 2.06.94-2.06 2.06-.94-2.06-.94-.94-2.06-.94 2.06-2.06.94zm-11 1L8.5 8.5l.94-2.06 2.06-.94-2.06-.94L8.5 2.5l-.94 2.06-2.06.94zm10 10l.94 2.06.94-2.06 2.06-.94-2.06-.94-.94-2.06-.94 2.06-2.06.94z\"/><path d=\"M17.41 7.96l-1.37-1.37c-.4-.4-.92-.59-1.43-.59-.52 0-1.04.2-1.43.59L10.3 9.45l-7.72 7.72c-.78.78-.78 2.05 0 2.83L4 21.41c.39.39.9.59 1.41.59.51 0 1.02-.2 1.41-.59l7.78-7.78 2.81-2.81c.8-.78.8-2.07 0-2.86zM5.41 20L4 18.59l7.72-7.72 1.47 1.35L5.41 20z\"/>\n",
              "  </svg>\n",
              "      </button>\n",
              "      \n",
              "  <style>\n",
              "    .colab-df-container {\n",
              "      display:flex;\n",
              "      flex-wrap:wrap;\n",
              "      gap: 12px;\n",
              "    }\n",
              "\n",
              "    .colab-df-convert {\n",
              "      background-color: #E8F0FE;\n",
              "      border: none;\n",
              "      border-radius: 50%;\n",
              "      cursor: pointer;\n",
              "      display: none;\n",
              "      fill: #1967D2;\n",
              "      height: 32px;\n",
              "      padding: 0 0 0 0;\n",
              "      width: 32px;\n",
              "    }\n",
              "\n",
              "    .colab-df-convert:hover {\n",
              "      background-color: #E2EBFA;\n",
              "      box-shadow: 0px 1px 2px rgba(60, 64, 67, 0.3), 0px 1px 3px 1px rgba(60, 64, 67, 0.15);\n",
              "      fill: #174EA6;\n",
              "    }\n",
              "\n",
              "    [theme=dark] .colab-df-convert {\n",
              "      background-color: #3B4455;\n",
              "      fill: #D2E3FC;\n",
              "    }\n",
              "\n",
              "    [theme=dark] .colab-df-convert:hover {\n",
              "      background-color: #434B5C;\n",
              "      box-shadow: 0px 1px 3px 1px rgba(0, 0, 0, 0.15);\n",
              "      filter: drop-shadow(0px 1px 2px rgba(0, 0, 0, 0.3));\n",
              "      fill: #FFFFFF;\n",
              "    }\n",
              "  </style>\n",
              "\n",
              "      <script>\n",
              "        const buttonEl =\n",
              "          document.querySelector('#df-cf9f0c46-cb29-4635-a04d-f89e3d856ac6 button.colab-df-convert');\n",
              "        buttonEl.style.display =\n",
              "          google.colab.kernel.accessAllowed ? 'block' : 'none';\n",
              "\n",
              "        async function convertToInteractive(key) {\n",
              "          const element = document.querySelector('#df-cf9f0c46-cb29-4635-a04d-f89e3d856ac6');\n",
              "          const dataTable =\n",
              "            await google.colab.kernel.invokeFunction('convertToInteractive',\n",
              "                                                     [key], {});\n",
              "          if (!dataTable) return;\n",
              "\n",
              "          const docLinkHtml = 'Like what you see? Visit the ' +\n",
              "            '<a target=\"_blank\" href=https://colab.research.google.com/notebooks/data_table.ipynb>data table notebook</a>'\n",
              "            + ' to learn more about interactive tables.';\n",
              "          element.innerHTML = '';\n",
              "          dataTable['output_type'] = 'display_data';\n",
              "          await google.colab.output.renderOutput(dataTable, element);\n",
              "          const docLink = document.createElement('div');\n",
              "          docLink.innerHTML = docLinkHtml;\n",
              "          element.appendChild(docLink);\n",
              "        }\n",
              "      </script>\n",
              "    </div>\n",
              "  </div>\n",
              "  "
            ]
          },
          "metadata": {},
          "execution_count": 27
        }
      ]
    },
    {
      "cell_type": "code",
      "source": [
        "Xtest = testing_data.iloc[:,0:1024]\n",
        "Ytest = testing_data.iloc[:,-1]\n",
        "Ytest.replace(to_replace=unique_categories,value=list(range(len(unique_categories))),inplace=True)"
      ],
      "metadata": {
        "id": "TQj91tktOuSO"
      },
      "execution_count": null,
      "outputs": []
    },
    {
      "cell_type": "code",
      "source": [
        "Ytest"
      ],
      "metadata": {
        "colab": {
          "base_uri": "https://localhost:8080/"
        },
        "id": "gMQzk39eQd1j",
        "outputId": "4109484b-3895-4af1-c065-33f559aae333"
      },
      "execution_count": null,
      "outputs": [
        {
          "output_type": "execute_result",
          "data": {
            "text/plain": [
              "0        40\n",
              "1        40\n",
              "2        40\n",
              "3        40\n",
              "4        40\n",
              "         ..\n",
              "13795    39\n",
              "13796    39\n",
              "13797    39\n",
              "13798    39\n",
              "13799    39\n",
              "Name: Image_Label, Length: 13800, dtype: int64"
            ]
          },
          "metadata": {},
          "execution_count": 29
        }
      ]
    },
    {
      "cell_type": "code",
      "source": [
        "Ytest_ohe = tf.keras.utils.to_categorical(y=Ytest,num_classes=46)"
      ],
      "metadata": {
        "id": "fx-k12C0QlgZ"
      },
      "execution_count": null,
      "outputs": []
    },
    {
      "cell_type": "code",
      "source": [
        "Ytest_ohe"
      ],
      "metadata": {
        "colab": {
          "base_uri": "https://localhost:8080/"
        },
        "id": "wSg0aUWqQv_w",
        "outputId": "96e273a4-bead-43c9-ae2a-22ef172600da"
      },
      "execution_count": null,
      "outputs": [
        {
          "output_type": "execute_result",
          "data": {
            "text/plain": [
              "array([[0., 0., 0., ..., 0., 0., 0.],\n",
              "       [0., 0., 0., ..., 0., 0., 0.],\n",
              "       [0., 0., 0., ..., 0., 0., 0.],\n",
              "       ...,\n",
              "       [0., 0., 0., ..., 0., 0., 0.],\n",
              "       [0., 0., 0., ..., 0., 0., 0.],\n",
              "       [0., 0., 0., ..., 0., 0., 0.]], dtype=float32)"
            ]
          },
          "metadata": {},
          "execution_count": 31
        }
      ]
    },
    {
      "cell_type": "code",
      "source": [
        "from keras.layers import Input, Dense"
      ],
      "metadata": {
        "id": "htjjyhmoQynh"
      },
      "execution_count": null,
      "outputs": []
    },
    {
      "cell_type": "code",
      "source": [
        "from keras.models import Sequential\n",
        "#data is flowing in a proper sequence hence, sequential networks"
      ],
      "metadata": {
        "id": "HS-a9q9-RGCI"
      },
      "execution_count": null,
      "outputs": []
    },
    {
      "cell_type": "code",
      "source": [
        "#CREATING THE NEURAL NETWORK\n",
        "def create_nw():\n",
        "#densely connected neural network, DNN\n",
        "  dnn = Sequential()\n",
        "  dnn.add(Input(shape=(1024,)))\n",
        "  dnn.add(Dense(1024,activation=\"relu\",use_bias=True))\n",
        "  dnn.add(Dense(units=46,activation=\"softmax\"))\n",
        "\n",
        "  return dnn\n",
        "  #we formed layers we didnt join them"
      ],
      "metadata": {
        "id": "mXM2HyhvRWuA"
      },
      "execution_count": null,
      "outputs": []
    },
    {
      "cell_type": "code",
      "source": [
        "dnn=create_nw()\n",
        "#we just created the link"
      ],
      "metadata": {
        "id": "Lm2-Uj_jSlfW"
      },
      "execution_count": null,
      "outputs": []
    },
    {
      "cell_type": "code",
      "source": [
        "dnn.summary()\n",
        "### (1024*1024)+1024 = 10,49,600"
      ],
      "metadata": {
        "colab": {
          "base_uri": "https://localhost:8080/"
        },
        "id": "v4EXg1MGTR28",
        "outputId": "f7c24515-ade9-4f0d-914d-17c728860b4b"
      },
      "execution_count": null,
      "outputs": [
        {
          "output_type": "stream",
          "name": "stdout",
          "text": [
            "Model: \"sequential\"\n",
            "_________________________________________________________________\n",
            " Layer (type)                Output Shape              Param #   \n",
            "=================================================================\n",
            " dense (Dense)               (None, 1024)              1049600   \n",
            "                                                                 \n",
            " dense_1 (Dense)             (None, 46)                47150     \n",
            "                                                                 \n",
            "=================================================================\n",
            "Total params: 1,096,750\n",
            "Trainable params: 1,096,750\n",
            "Non-trainable params: 0\n",
            "_________________________________________________________________\n"
          ]
        }
      ]
    },
    {
      "cell_type": "markdown",
      "source": [],
      "metadata": {
        "id": "zMm6Q-_pTi0j"
      }
    },
    {
      "cell_type": "code",
      "source": [
        "dnn.compile(loss=\"categorical_crossentropy\",metrics=[\"accuracy\",tf.keras.metrics.Precision(),tf.keras.metrics.Recall()])"
      ],
      "metadata": {
        "id": "iDS4NWbBTUD0"
      },
      "execution_count": null,
      "outputs": []
    },
    {
      "cell_type": "code",
      "source": [
        "dnn.fit(x=Xtrain,y=Ytrain_ohe, batch_size=1700,epochs=5,validation_data=(Xtest,Ytest_ohe))\n",
        "#epochs : iteration\n",
        "#batch sizE : size of the clusters of data which was extracted from the actual size of the data to train the model."
      ],
      "metadata": {
        "colab": {
          "base_uri": "https://localhost:8080/"
        },
        "id": "7z5O3ldxUJke",
        "outputId": "688200d8-23d4-412a-b047-6c688163b1be"
      },
      "execution_count": null,
      "outputs": [
        {
          "output_type": "stream",
          "name": "stdout",
          "text": [
            "Epoch 1/5\n",
            "46/46 [==============================] - 12s 242ms/step - loss: 1.8245 - accuracy: 0.5367 - precision: 0.8798 - recall: 0.3021 - val_loss: 1.1856 - val_accuracy: 0.6896 - val_precision: 0.8983 - val_recall: 0.5009\n",
            "Epoch 2/5\n",
            "46/46 [==============================] - 11s 244ms/step - loss: 1.0768 - accuracy: 0.7141 - precision: 0.8949 - recall: 0.5541 - val_loss: 0.9494 - val_accuracy: 0.7436 - val_precision: 0.9002 - val_recall: 0.6062\n",
            "Epoch 3/5\n",
            "46/46 [==============================] - 10s 221ms/step - loss: 0.8195 - accuracy: 0.7804 - precision: 0.9125 - recall: 0.6558 - val_loss: 0.7124 - val_accuracy: 0.8085 - val_precision: 0.9241 - val_recall: 0.7014\n",
            "Epoch 4/5\n",
            "46/46 [==============================] - 9s 196ms/step - loss: 0.6448 - accuracy: 0.8293 - precision: 0.9290 - recall: 0.7281 - val_loss: 0.5933 - val_accuracy: 0.8382 - val_precision: 0.9302 - val_recall: 0.7536\n",
            "Epoch 5/5\n",
            "46/46 [==============================] - 11s 251ms/step - loss: 0.5169 - accuracy: 0.8636 - precision: 0.9415 - recall: 0.7849 - val_loss: 0.4639 - val_accuracy: 0.8780 - val_precision: 0.9487 - val_recall: 0.8085\n"
          ]
        },
        {
          "output_type": "execute_result",
          "data": {
            "text/plain": [
              "<keras.callbacks.History at 0x7f992639cee0>"
            ]
          },
          "metadata": {},
          "execution_count": 38
        }
      ]
    },
    {
      "cell_type": "code",
      "source": [],
      "metadata": {
        "id": "Eo4AkwFKVVp4"
      },
      "execution_count": null,
      "outputs": []
    }
  ]
}